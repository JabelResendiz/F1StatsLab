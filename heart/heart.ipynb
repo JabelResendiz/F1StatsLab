{
 "cells": [
  {
   "cell_type": "markdown",
   "metadata": {},
   "source": [
    "<div style=\"text-align: center;\">\n",
    "    <h1>Seminario Final de Estadística</h1>\n",
    "</div>\n"
   ]
  },
  {
   "cell_type": "markdown",
   "metadata": {},
   "source": [
    "## Integrantes\n",
    "\n",
    "- Jabel Resendiz Aguirre              - C312\n",
    "- Arianne Camila Palancar Ochando     - C311\n",
    "- Noel Pérez Calvo                    - C311\n",
    "\n",
    "## Introducción\n",
    "\n",
    "Las enfermedades cardiovasculares representan una de las principales causas de mortalidad a nivel mundial, afectando de manera significativa a la población de la tercera edad. En particular, los ataques cardíacos son eventos críticos que pueden tener consecuencias devastadoras para la salud y la calidad de vida de los individuos mayores. Este estudio se centra en la recopilación y análisis de datos de personas de la tercera edad que han sufrido ataques cardíacos, con el objetivo de realizar un análisis estadístico inferencial y desarrollar modelos predictivos que puedan ayudar a identificar factores de riesgo y mejorar las estrategias de prevención y tratamiento.\n",
    "\n",
    "### Objetivos : \n",
    "1. `Comprender el Dataset`: Analizaremos las variables incluidas en el conjunto de datos, como la edad, el sexo, la presión arterial, y otros factores de riesgo\n",
    "\n",
    "2. `Estadística inferencial`: Aplicaremos métodos de estadística inferencial para hacer generalizaciones sobre la población a partir de nuestra muestra de datos. Esto incluirá la estimación de parámetros y la realización de pruebas de hipótesis para evaluar la significancia de nuestras observaciones.\n",
    "\n",
    "Se consideró en el estudio una muestra de pacientes de la tercera edad. Las columnas de datos a analizar son:\n",
    "\n",
    "- `Edad`: Edad del paciente en años\n",
    "- `Sexo`: Sexo del paciente (Hombre=1 , mujer=0)\n",
    "- `Presión Arterial`\n",
    "- `Colesterol`\n",
    "- `Frecuencia cardiaca`\n",
    "- `Diabetes`: Si el paciente sufre de diabetes (1=SI 0=NO)\n",
    "- `Fumador`: Si el paciente es fumador (1=SI 0=NO)\n",
    "- `IMC`: Índice de masa corporal\n",
    "- `Actividad física semanal`\n",
    "- `meses desde el último chequeo`\n",
    "\n",
    "Este seminario no solo nos ayudará a entender mejor los factores que contribuyen a los ataques cardíacos, sino que también nos proporcionará habilidades prácticas en el uso de herramientas estadísticas.\n",
    "\n"
   ]
  },
  {
   "cell_type": "markdown",
   "metadata": {},
   "source": [
    "## Importando módulos"
   ]
  },
  {
   "cell_type": "code",
   "execution_count": 19,
   "metadata": {},
   "outputs": [],
   "source": [
    "import numpy as np\n",
    "import pandas as pd\n",
    "import scipy.stats as st\n",
    "from scipy.stats import norm \n",
    "import matplotlib.pyplot as plt"
   ]
  },
  {
   "cell_type": "markdown",
   "metadata": {},
   "source": [
    "## Cargando datos"
   ]
  },
  {
   "cell_type": "code",
   "execution_count": 6,
   "metadata": {},
   "outputs": [],
   "source": [
    "heart = pd.read_csv(\"heart_attack_dataset.csv\")"
   ]
  },
  {
   "cell_type": "markdown",
   "metadata": {},
   "source": [
    "## Análisis exploratorio de los datos"
   ]
  },
  {
   "cell_type": "markdown",
   "metadata": {},
   "source": [
    "### Descripción básica de los datos"
   ]
  },
  {
   "cell_type": "code",
   "execution_count": 7,
   "metadata": {},
   "outputs": [
    {
     "data": {
      "text/html": [
       "<div>\n",
       "<style scoped>\n",
       "    .dataframe tbody tr th:only-of-type {\n",
       "        vertical-align: middle;\n",
       "    }\n",
       "\n",
       "    .dataframe tbody tr th {\n",
       "        vertical-align: top;\n",
       "    }\n",
       "\n",
       "    .dataframe thead th {\n",
       "        text-align: right;\n",
       "    }\n",
       "</style>\n",
       "<table border=\"1\" class=\"dataframe\">\n",
       "  <thead>\n",
       "    <tr style=\"text-align: right;\">\n",
       "      <th></th>\n",
       "      <th>Edad</th>\n",
       "      <th>Sexo</th>\n",
       "      <th>Presion_Arterial</th>\n",
       "      <th>Colesterol</th>\n",
       "      <th>Frecuencia_Cardiaca</th>\n",
       "      <th>Diabetes</th>\n",
       "      <th>Fumador</th>\n",
       "      <th>IMC</th>\n",
       "      <th>Actividad_Fisica_Semanal</th>\n",
       "      <th>Meses_Desde_Ultimo_Chequeo</th>\n",
       "    </tr>\n",
       "  </thead>\n",
       "  <tbody>\n",
       "    <tr>\n",
       "      <th>0</th>\n",
       "      <td>64</td>\n",
       "      <td>1</td>\n",
       "      <td>96</td>\n",
       "      <td>179</td>\n",
       "      <td>86</td>\n",
       "      <td>1</td>\n",
       "      <td>1</td>\n",
       "      <td>26.46</td>\n",
       "      <td>3</td>\n",
       "      <td>3</td>\n",
       "    </tr>\n",
       "    <tr>\n",
       "      <th>1</th>\n",
       "      <td>58</td>\n",
       "      <td>1</td>\n",
       "      <td>140</td>\n",
       "      <td>256</td>\n",
       "      <td>86</td>\n",
       "      <td>0</td>\n",
       "      <td>1</td>\n",
       "      <td>29.24</td>\n",
       "      <td>1</td>\n",
       "      <td>5</td>\n",
       "    </tr>\n",
       "    <tr>\n",
       "      <th>2</th>\n",
       "      <td>66</td>\n",
       "      <td>0</td>\n",
       "      <td>116</td>\n",
       "      <td>291</td>\n",
       "      <td>81</td>\n",
       "      <td>0</td>\n",
       "      <td>0</td>\n",
       "      <td>19.15</td>\n",
       "      <td>0</td>\n",
       "      <td>6</td>\n",
       "    </tr>\n",
       "    <tr>\n",
       "      <th>3</th>\n",
       "      <td>75</td>\n",
       "      <td>0</td>\n",
       "      <td>141</td>\n",
       "      <td>185</td>\n",
       "      <td>63</td>\n",
       "      <td>0</td>\n",
       "      <td>1</td>\n",
       "      <td>21.37</td>\n",
       "      <td>3</td>\n",
       "      <td>13</td>\n",
       "    </tr>\n",
       "    <tr>\n",
       "      <th>4</th>\n",
       "      <td>57</td>\n",
       "      <td>0</td>\n",
       "      <td>114</td>\n",
       "      <td>182</td>\n",
       "      <td>91</td>\n",
       "      <td>1</td>\n",
       "      <td>0</td>\n",
       "      <td>21.03</td>\n",
       "      <td>3</td>\n",
       "      <td>0</td>\n",
       "    </tr>\n",
       "  </tbody>\n",
       "</table>\n",
       "</div>"
      ],
      "text/plain": [
       "   Edad  Sexo  Presion_Arterial  Colesterol  Frecuencia_Cardiaca  Diabetes  \\\n",
       "0    64     1                96         179                   86         1   \n",
       "1    58     1               140         256                   86         0   \n",
       "2    66     0               116         291                   81         0   \n",
       "3    75     0               141         185                   63         0   \n",
       "4    57     0               114         182                   91         1   \n",
       "\n",
       "   Fumador    IMC  Actividad_Fisica_Semanal  Meses_Desde_Ultimo_Chequeo  \n",
       "0        1  26.46                         3                           3  \n",
       "1        1  29.24                         1                           5  \n",
       "2        0  19.15                         0                           6  \n",
       "3        1  21.37                         3                          13  \n",
       "4        0  21.03                         3                           0  "
      ]
     },
     "execution_count": 7,
     "metadata": {},
     "output_type": "execute_result"
    }
   ],
   "source": [
    "heart.head() # verficar que se han cargado correctamente los datos"
   ]
  },
  {
   "cell_type": "code",
   "execution_count": 8,
   "metadata": {},
   "outputs": [
    {
     "name": "stdout",
     "output_type": "stream",
     "text": [
      "<class 'pandas.core.frame.DataFrame'>\n",
      "RangeIndex: 300 entries, 0 to 299\n",
      "Data columns (total 10 columns):\n",
      " #   Column                      Non-Null Count  Dtype  \n",
      "---  ------                      --------------  -----  \n",
      " 0   Edad                        300 non-null    int64  \n",
      " 1   Sexo                        300 non-null    int64  \n",
      " 2   Presion_Arterial            300 non-null    int64  \n",
      " 3   Colesterol                  300 non-null    int64  \n",
      " 4   Frecuencia_Cardiaca         300 non-null    int64  \n",
      " 5   Diabetes                    300 non-null    int64  \n",
      " 6   Fumador                     300 non-null    int64  \n",
      " 7   IMC                         300 non-null    float64\n",
      " 8   Actividad_Fisica_Semanal    300 non-null    int64  \n",
      " 9   Meses_Desde_Ultimo_Chequeo  300 non-null    int64  \n",
      "dtypes: float64(1), int64(9)\n",
      "memory usage: 23.6 KB\n"
     ]
    }
   ],
   "source": [
    "heart.info() #Se proporciona información útil sobre el DataFrame"
   ]
  },
  {
   "cell_type": "code",
   "execution_count": 9,
   "metadata": {},
   "outputs": [
    {
     "data": {
      "text/html": [
       "<div>\n",
       "<style scoped>\n",
       "    .dataframe tbody tr th:only-of-type {\n",
       "        vertical-align: middle;\n",
       "    }\n",
       "\n",
       "    .dataframe tbody tr th {\n",
       "        vertical-align: top;\n",
       "    }\n",
       "\n",
       "    .dataframe thead th {\n",
       "        text-align: right;\n",
       "    }\n",
       "</style>\n",
       "<table border=\"1\" class=\"dataframe\">\n",
       "  <thead>\n",
       "    <tr style=\"text-align: right;\">\n",
       "      <th></th>\n",
       "      <th>Edad</th>\n",
       "      <th>Sexo</th>\n",
       "      <th>Presion_Arterial</th>\n",
       "      <th>Colesterol</th>\n",
       "      <th>Frecuencia_Cardiaca</th>\n",
       "      <th>Diabetes</th>\n",
       "      <th>Fumador</th>\n",
       "      <th>IMC</th>\n",
       "      <th>Actividad_Fisica_Semanal</th>\n",
       "      <th>Meses_Desde_Ultimo_Chequeo</th>\n",
       "    </tr>\n",
       "  </thead>\n",
       "  <tbody>\n",
       "    <tr>\n",
       "      <th>count</th>\n",
       "      <td>300.000000</td>\n",
       "      <td>300.000000</td>\n",
       "      <td>300.000000</td>\n",
       "      <td>300.00000</td>\n",
       "      <td>300.000000</td>\n",
       "      <td>300.000000</td>\n",
       "      <td>300.000000</td>\n",
       "      <td>300.000000</td>\n",
       "      <td>300.000000</td>\n",
       "      <td>300.000000</td>\n",
       "    </tr>\n",
       "    <tr>\n",
       "      <th>mean</th>\n",
       "      <td>59.413333</td>\n",
       "      <td>0.603333</td>\n",
       "      <td>129.093333</td>\n",
       "      <td>205.62000</td>\n",
       "      <td>74.960000</td>\n",
       "      <td>0.200000</td>\n",
       "      <td>0.276667</td>\n",
       "      <td>26.910300</td>\n",
       "      <td>2.976667</td>\n",
       "      <td>10.926667</td>\n",
       "    </tr>\n",
       "    <tr>\n",
       "      <th>std</th>\n",
       "      <td>9.872218</td>\n",
       "      <td>0.490023</td>\n",
       "      <td>19.765971</td>\n",
       "      <td>39.23127</td>\n",
       "      <td>10.111671</td>\n",
       "      <td>0.400668</td>\n",
       "      <td>0.448098</td>\n",
       "      <td>5.028559</td>\n",
       "      <td>1.698747</td>\n",
       "      <td>11.515351</td>\n",
       "    </tr>\n",
       "    <tr>\n",
       "      <th>min</th>\n",
       "      <td>27.000000</td>\n",
       "      <td>0.000000</td>\n",
       "      <td>76.000000</td>\n",
       "      <td>84.00000</td>\n",
       "      <td>49.000000</td>\n",
       "      <td>0.000000</td>\n",
       "      <td>0.000000</td>\n",
       "      <td>11.900000</td>\n",
       "      <td>0.000000</td>\n",
       "      <td>0.000000</td>\n",
       "    </tr>\n",
       "    <tr>\n",
       "      <th>25%</th>\n",
       "      <td>53.000000</td>\n",
       "      <td>0.000000</td>\n",
       "      <td>116.750000</td>\n",
       "      <td>179.00000</td>\n",
       "      <td>68.000000</td>\n",
       "      <td>0.000000</td>\n",
       "      <td>0.000000</td>\n",
       "      <td>23.790000</td>\n",
       "      <td>2.000000</td>\n",
       "      <td>3.000000</td>\n",
       "    </tr>\n",
       "    <tr>\n",
       "      <th>50%</th>\n",
       "      <td>60.000000</td>\n",
       "      <td>1.000000</td>\n",
       "      <td>130.000000</td>\n",
       "      <td>207.00000</td>\n",
       "      <td>75.000000</td>\n",
       "      <td>0.000000</td>\n",
       "      <td>0.000000</td>\n",
       "      <td>26.975000</td>\n",
       "      <td>3.000000</td>\n",
       "      <td>8.000000</td>\n",
       "    </tr>\n",
       "    <tr>\n",
       "      <th>75%</th>\n",
       "      <td>66.000000</td>\n",
       "      <td>1.000000</td>\n",
       "      <td>142.000000</td>\n",
       "      <td>230.00000</td>\n",
       "      <td>81.250000</td>\n",
       "      <td>0.000000</td>\n",
       "      <td>1.000000</td>\n",
       "      <td>30.110000</td>\n",
       "      <td>4.000000</td>\n",
       "      <td>14.000000</td>\n",
       "    </tr>\n",
       "    <tr>\n",
       "      <th>max</th>\n",
       "      <td>98.000000</td>\n",
       "      <td>1.000000</td>\n",
       "      <td>182.000000</td>\n",
       "      <td>301.00000</td>\n",
       "      <td>100.000000</td>\n",
       "      <td>1.000000</td>\n",
       "      <td>1.000000</td>\n",
       "      <td>42.690000</td>\n",
       "      <td>9.000000</td>\n",
       "      <td>73.000000</td>\n",
       "    </tr>\n",
       "  </tbody>\n",
       "</table>\n",
       "</div>"
      ],
      "text/plain": [
       "             Edad        Sexo  Presion_Arterial  Colesterol  \\\n",
       "count  300.000000  300.000000        300.000000   300.00000   \n",
       "mean    59.413333    0.603333        129.093333   205.62000   \n",
       "std      9.872218    0.490023         19.765971    39.23127   \n",
       "min     27.000000    0.000000         76.000000    84.00000   \n",
       "25%     53.000000    0.000000        116.750000   179.00000   \n",
       "50%     60.000000    1.000000        130.000000   207.00000   \n",
       "75%     66.000000    1.000000        142.000000   230.00000   \n",
       "max     98.000000    1.000000        182.000000   301.00000   \n",
       "\n",
       "       Frecuencia_Cardiaca    Diabetes     Fumador         IMC  \\\n",
       "count           300.000000  300.000000  300.000000  300.000000   \n",
       "mean             74.960000    0.200000    0.276667   26.910300   \n",
       "std              10.111671    0.400668    0.448098    5.028559   \n",
       "min              49.000000    0.000000    0.000000   11.900000   \n",
       "25%              68.000000    0.000000    0.000000   23.790000   \n",
       "50%              75.000000    0.000000    0.000000   26.975000   \n",
       "75%              81.250000    0.000000    1.000000   30.110000   \n",
       "max             100.000000    1.000000    1.000000   42.690000   \n",
       "\n",
       "       Actividad_Fisica_Semanal  Meses_Desde_Ultimo_Chequeo  \n",
       "count                300.000000                  300.000000  \n",
       "mean                   2.976667                   10.926667  \n",
       "std                    1.698747                   11.515351  \n",
       "min                    0.000000                    0.000000  \n",
       "25%                    2.000000                    3.000000  \n",
       "50%                    3.000000                    8.000000  \n",
       "75%                    4.000000                   14.000000  \n",
       "max                    9.000000                   73.000000  "
      ]
     },
     "execution_count": 9,
     "metadata": {},
     "output_type": "execute_result"
    }
   ],
   "source": [
    "heart.describe() #generar estadísticas descriptiva del DataFrame"
   ]
  },
  {
   "cell_type": "markdown",
   "metadata": {},
   "source": [
    "### SEXO\n",
    "\n",
    "Utilizaremos **Matplotlib** para representar visualmente la distribución de sexo en el conjunto de datos."
   ]
  },
  {
   "cell_type": "code",
   "execution_count": 12,
   "metadata": {},
   "outputs": [
    {
     "data": {
      "image/png": "[encoded data removed]",
      "text/plain": [
       "<Figure size 640x480 with 1 Axes>"
      ]
     },
     "metadata": {},
     "output_type": "display_data"
    }
   ],
   "source": [
    "#Contar la cantidad de mujeres (0) y hombres (1)\n",
    "gender_counts = heart[\"Sexo\"].value_counts()\n",
    "gender_counts\n",
    "\n",
    "# Crear un gráfico de barras\n",
    "plt.bar(gender_counts.index, gender_counts.values, color=['blue', 'red'])\n",
    "plt.xticks([0, 1], ['Mujeres', 'Hombres'])\n",
    "plt.title('Distribución de Género de los Pacientes')\n",
    "plt.xlabel('Género')\n",
    "plt.ylabel('Cantidad de Pacientes')\n",
    "\n",
    "for index,value in enumerate(gender_counts.values):\n",
    "        plt.text((index+1)%2,value,str(value),ha='center', va='bottom')\n",
    "plt.show()\n"
   ]
  },
  {
   "cell_type": "markdown",
   "metadata": {},
   "source": [
    "En nuestro análisis de datos, encontramos que la distribución de género de los pacientes es la siguiente: 181 pacientes hombres y 119 pacientes mujeres. Computemos la estimación puntual de la proporción de todas las mujeres del estudio que han sufrido de ataques cardiacos. Tenemos en cuneta "
   ]
  },
  {
   "cell_type": "code",
   "execution_count": 16,
   "metadata": {},
   "outputs": [
    {
     "data": {
      "text/plain": [
       "0.39666666666666667"
      ]
     },
     "execution_count": 16,
     "metadata": {},
     "output_type": "execute_result"
    }
   ],
   "source": [
    "mean_estimator = gender_counts[0]/ gender_counts.sum()\n",
    "mean_estimator"
   ]
  },
  {
   "cell_type": "code",
   "execution_count": 17,
   "metadata": {},
   "outputs": [
    {
     "data": {
      "text/plain": [
       "0.0007977407407407407"
      ]
     },
     "execution_count": 17,
     "metadata": {},
     "output_type": "execute_result"
    }
   ],
   "source": [
    "variance_estimator = mean_estimator*(1-mean_estimator)/gender_counts.sum()\n",
    "variance_estimator"
   ]
  },
  {
   "cell_type": "markdown",
   "metadata": {},
   "source": [
    "Construyamos un intervalo de confianza del 95 % para la proporción antes calculada.\n",
    "\n",
    "Recordemos que el intervalo de confianza para una proporción se calcula\n",
    "$$P(A) \\in [ \\hat{p} - \\sqrt{\\frac{\\hat{p}(1 - \\hat{p})}{n}}Z_{1 - \\frac{\\alpha}{2}} ; \\hat{p} + \\sqrt{\\frac{\\hat{p}(1 - \\hat{p})}{n}}Z_{1 - \\frac{\\alpha}{2}}]$$"
   ]
  },
  {
   "cell_type": "code",
   "execution_count": 26,
   "metadata": {},
   "outputs": [
    {
     "name": "stdout",
     "output_type": "stream",
     "text": [
      "Intervalo : [  0.34130884693769264 , 0.4520244863956407 ]\n"
     ]
    }
   ],
   "source": [
    "alpha = 0.05\n",
    "n = gender_counts.sum()\n",
    "Z = norm.ppf( 1-alpha/2 )\n",
    "sq = np.sqrt(variance_estimator)\n",
    "lower_bound = mean_estimator - sq*Z\n",
    "upper_bound = mean_estimator + sq*Z\n",
    "\n",
    "print(\"Intervalo : [ \",lower_bound,\",\" , upper_bound, \"]\")\n"
   ]
  },
  {
   "cell_type": "markdown",
   "metadata": {},
   "source": [
    "Datos del National Center for Health Statistics (2015-2018) muestran que el 40% de las personas que han sido diagnosticado en Estados Unidos con ECV , son mujeres.\n",
    "\n",
    "Analicemos si nuestra proporición es menor que esta propuesta por el centor."
   ]
  },
  {
   "cell_type": "code",
   "execution_count": 30,
   "metadata": {},
   "outputs": [
    {
     "name": "stdout",
     "output_type": "stream",
     "text": [
      "Valor Z_hat: -0.11785113019775868\n",
      "Rechazamos la hipótesis nula. La proporción muestral es significativamente menor que la proporción poblacional.\n"
     ]
    }
   ],
   "source": [
    "alpha = 0.05\n",
    "p0= 0.40\n",
    "n = gender_counts.sum()\n",
    "Z = norm.ppf( 1-alpha/2 )\n",
    "Z_hat = (mean_estimator - p0)*np.sqrt(n/(p0*(1-p0)))\n",
    "\n",
    "\n",
    "print(f\"Valor Z_hat: {Z_hat}\")\n",
    "\n",
    "if Z_hat < Z:\n",
    "    print(\"Rechazamos la hipótesis nula. La proporción muestral es significativamente menor que la proporción poblacional.\")\n",
    "\n",
    "else:\n",
    "     print(\"No rechazamos la hipótesis nula. No hay evidencia suficiente para afirmar que la proporción muestral es menor que la proporción poblacional.\")"
   ]
  }
 ],
 "metadata": {
  "kernelspec": {
   "display_name": "Python 3",
   "language": "python",
   "name": "python3"
  },
  "language_info": {
   "codemirror_mode": {
    "name": "ipython",
    "version": 3
   },
   "file_extension": ".py",
   "mimetype": "text/x-python",
   "name": "python",
   "nbconvert_exporter": "python",
   "pygments_lexer": "ipython3",
   "version": "3.12.0"
  }
 },
 "nbformat": 4,
 "nbformat_minor": 2
}
