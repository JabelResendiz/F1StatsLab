{
 "cells": [
  {
   "cell_type": "markdown",
   "metadata": {},
   "source": [
    "# Estadística - Clase Práctica 1\n",
    "### Tema: Estadistica descriptiva y estimación.\n",
    "\n",
    "El Premio Nobel es un galardón internacional administrado por la Fundación Nobel en Estocolmo, Suecia, y está basado en la fortuna de Alfred Nobel, un inventor, ingeniero e industrial sueco. En 1968, el Sveriges Riksbank estableció el Premio del Banco de Suecia en Ciencias Económicas en memoria de Alfred Nobel, fundador del Premio Nobel.\n",
    "\n",
    "Entre 1901 y 2023, los Premios Nobel y el Premio del Banco de Suecia en Ciencias Económicas en memoria de Alfred Nobel se otorgaron 621 veces a 1,000 personas y organizaciones. Algunos han recibido el Premio Nobel más de una vez, lo que hace un total de 965 individuos y 27 organizaciones.\n",
    "\n",
    "Adjunto a este archivo se provee el archivo ```nobel_laureates_data.csv``` con los datos anteriormente descritos, y ```cp1.pdf```, el documento con las orientaciones de la clase práctica.\n",
    "\n",
    "\n"
   ]
  },
  {
   "cell_type": "markdown",
   "metadata": {},
   "source": [
    "#### Requerimientos\n",
    "\n",
    "Asegúrate de cargar las bibliotecas necesarias antes de comenzar. Puedes completar el código o los pasos faltantes según se indique."
   ]
  },
  {
   "cell_type": "code",
   "execution_count": 1,
   "metadata": {},
   "outputs": [],
   "source": [
    "# Bibliotecas necesarias\n",
    "import numpy as np # Para realizar cálculos estadísticos.\n",
    "from scipy.stats import norm # Para realizar cálculos estadísticos.\n",
    "import matplotlib.pyplot as plt # Para visualizar distribuciones y análisis gráficos.\n",
    "import pandas as pd # Para cargar y manipular los datos.\n",
    "import re # Para trabajar con expresiones regulares"
   ]
  },
  {
   "cell_type": "markdown",
   "metadata": {},
   "source": [
    "#### Cargar los datos\n",
    "Primero, utilizaremos **Pandas** para cargar el conjunto de datos en un DataFrame. Este paso es crucial para acceder a la información y explorar las primeras filas del conjunto de datos para entender su estructura."
   ]
  },
  {
   "cell_type": "code",
   "execution_count": 2,
   "metadata": {},
   "outputs": [
    {
     "data": {
      "text/html": [
       "<div>\n",
       "<style scoped>\n",
       "    .dataframe tbody tr th:only-of-type {\n",
       "        vertical-align: middle;\n",
       "    }\n",
       "\n",
       "    .dataframe tbody tr th {\n",
       "        vertical-align: top;\n",
       "    }\n",
       "\n",
       "    .dataframe thead th {\n",
       "        text-align: right;\n",
       "    }\n",
       "</style>\n",
       "<table border=\"1\" class=\"dataframe\">\n",
       "  <thead>\n",
       "    <tr style=\"text-align: right;\">\n",
       "      <th></th>\n",
       "      <th>year</th>\n",
       "      <th>category</th>\n",
       "      <th>motivation</th>\n",
       "      <th>prizeShare</th>\n",
       "      <th>laureateID</th>\n",
       "      <th>fullName</th>\n",
       "      <th>gender</th>\n",
       "      <th>born</th>\n",
       "      <th>bornCountry</th>\n",
       "      <th>bornCity</th>\n",
       "      <th>died</th>\n",
       "      <th>diedCountry</th>\n",
       "      <th>diedCity</th>\n",
       "      <th>organizationName</th>\n",
       "      <th>organizationCountry</th>\n",
       "      <th>organizationCity</th>\n",
       "    </tr>\n",
       "  </thead>\n",
       "  <tbody>\n",
       "    <tr>\n",
       "      <th>0</th>\n",
       "      <td>2023</td>\n",
       "      <td>medicine</td>\n",
       "      <td>for their discoveries concerning nucleoside ba...</td>\n",
       "      <td>2</td>\n",
       "      <td>1024</td>\n",
       "      <td>Katalin Kariko</td>\n",
       "      <td>female</td>\n",
       "      <td>17-01-1955</td>\n",
       "      <td>Hungary</td>\n",
       "      <td>Szolnok</td>\n",
       "      <td>0000-00-00</td>\n",
       "      <td>NaN</td>\n",
       "      <td>NaN</td>\n",
       "      <td>Szeged University</td>\n",
       "      <td>Hungary</td>\n",
       "      <td>Szeged</td>\n",
       "    </tr>\n",
       "    <tr>\n",
       "      <th>1</th>\n",
       "      <td>2023</td>\n",
       "      <td>economics</td>\n",
       "      <td>for having advanced our understanding of women...</td>\n",
       "      <td>1</td>\n",
       "      <td>1034</td>\n",
       "      <td>Claudia Goldin</td>\n",
       "      <td>female</td>\n",
       "      <td>1946-00-00</td>\n",
       "      <td>USA</td>\n",
       "      <td>New York NY</td>\n",
       "      <td>0000-00-00</td>\n",
       "      <td>NaN</td>\n",
       "      <td>NaN</td>\n",
       "      <td>Harvard University</td>\n",
       "      <td>USA</td>\n",
       "      <td>Cambridge MA</td>\n",
       "    </tr>\n",
       "    <tr>\n",
       "      <th>2</th>\n",
       "      <td>2023</td>\n",
       "      <td>peace</td>\n",
       "      <td>for her fight against the oppression of women ...</td>\n",
       "      <td>1</td>\n",
       "      <td>1033</td>\n",
       "      <td>Narges Mohammadi</td>\n",
       "      <td>female</td>\n",
       "      <td>21-04-1972</td>\n",
       "      <td>Iran</td>\n",
       "      <td>Zanjan</td>\n",
       "      <td>0000-00-00</td>\n",
       "      <td>NaN</td>\n",
       "      <td>NaN</td>\n",
       "      <td>NaN</td>\n",
       "      <td>NaN</td>\n",
       "      <td>NaN</td>\n",
       "    </tr>\n",
       "    <tr>\n",
       "      <th>3</th>\n",
       "      <td>2023</td>\n",
       "      <td>literature</td>\n",
       "      <td>for his innovative plays and prose which give ...</td>\n",
       "      <td>1</td>\n",
       "      <td>1032</td>\n",
       "      <td>Jon Fosse</td>\n",
       "      <td>male</td>\n",
       "      <td>29-09-1959</td>\n",
       "      <td>Norway</td>\n",
       "      <td>Haugesund</td>\n",
       "      <td>0000-00-00</td>\n",
       "      <td>NaN</td>\n",
       "      <td>NaN</td>\n",
       "      <td>NaN</td>\n",
       "      <td>NaN</td>\n",
       "      <td>NaN</td>\n",
       "    </tr>\n",
       "    <tr>\n",
       "      <th>4</th>\n",
       "      <td>2023</td>\n",
       "      <td>chemistry</td>\n",
       "      <td>for the discovery and synthesis of quantum dots</td>\n",
       "      <td>3</td>\n",
       "      <td>1031</td>\n",
       "      <td>Alexei Ekimov</td>\n",
       "      <td>male</td>\n",
       "      <td>1945-00-00</td>\n",
       "      <td>Russia</td>\n",
       "      <td>NaN</td>\n",
       "      <td>0000-00-00</td>\n",
       "      <td>NaN</td>\n",
       "      <td>NaN</td>\n",
       "      <td>Nanocrystals Technology Inc.</td>\n",
       "      <td>USA</td>\n",
       "      <td>New York NY</td>\n",
       "    </tr>\n",
       "  </tbody>\n",
       "</table>\n",
       "</div>"
      ],
      "text/plain": [
       "   year    category                                         motivation  \\\n",
       "0  2023    medicine  for their discoveries concerning nucleoside ba...   \n",
       "1  2023   economics  for having advanced our understanding of women...   \n",
       "2  2023       peace  for her fight against the oppression of women ...   \n",
       "3  2023  literature  for his innovative plays and prose which give ...   \n",
       "4  2023   chemistry    for the discovery and synthesis of quantum dots   \n",
       "\n",
       "   prizeShare  laureateID          fullName  gender        born bornCountry  \\\n",
       "0           2        1024    Katalin Kariko  female  17-01-1955     Hungary   \n",
       "1           1        1034    Claudia Goldin  female  1946-00-00         USA   \n",
       "2           1        1033  Narges Mohammadi  female  21-04-1972        Iran   \n",
       "3           1        1032         Jon Fosse    male  29-09-1959      Norway   \n",
       "4           3        1031     Alexei Ekimov    male  1945-00-00      Russia   \n",
       "\n",
       "      bornCity        died diedCountry diedCity              organizationName  \\\n",
       "0      Szolnok  0000-00-00         NaN      NaN             Szeged University   \n",
       "1  New York NY  0000-00-00         NaN      NaN            Harvard University   \n",
       "2       Zanjan  0000-00-00         NaN      NaN                           NaN   \n",
       "3    Haugesund  0000-00-00         NaN      NaN                           NaN   \n",
       "4          NaN  0000-00-00         NaN      NaN  Nanocrystals Technology Inc.   \n",
       "\n",
       "  organizationCountry organizationCity  \n",
       "0             Hungary           Szeged  \n",
       "1                 USA     Cambridge MA  \n",
       "2                 NaN              NaN  \n",
       "3                 NaN              NaN  \n",
       "4                 USA      New York NY  "
      ]
     },
     "execution_count": 2,
     "metadata": {},
     "output_type": "execute_result"
    }
   ],
   "source": [
    "nobel = pd.read_csv(\"nobel_laureates_data.csv\")\n",
    "nobel.head()"
   ]
  },
  {
   "cell_type": "code",
   "execution_count": 3,
   "metadata": {},
   "outputs": [
    {
     "data": {
      "text/html": [
       "<div>\n",
       "<style scoped>\n",
       "    .dataframe tbody tr th:only-of-type {\n",
       "        vertical-align: middle;\n",
       "    }\n",
       "\n",
       "    .dataframe tbody tr th {\n",
       "        vertical-align: top;\n",
       "    }\n",
       "\n",
       "    .dataframe thead th {\n",
       "        text-align: right;\n",
       "    }\n",
       "</style>\n",
       "<table border=\"1\" class=\"dataframe\">\n",
       "  <thead>\n",
       "    <tr style=\"text-align: right;\">\n",
       "      <th></th>\n",
       "      <th>year</th>\n",
       "      <th>prizeShare</th>\n",
       "      <th>laureateID</th>\n",
       "    </tr>\n",
       "  </thead>\n",
       "  <tbody>\n",
       "    <tr>\n",
       "      <th>count</th>\n",
       "      <td>1000.000000</td>\n",
       "      <td>1000.000000</td>\n",
       "      <td>1000.000000</td>\n",
       "    </tr>\n",
       "    <tr>\n",
       "      <th>mean</th>\n",
       "      <td>1973.721000</td>\n",
       "      <td>2.027000</td>\n",
       "      <td>509.099000</td>\n",
       "    </tr>\n",
       "    <tr>\n",
       "      <th>std</th>\n",
       "      <td>34.523195</td>\n",
       "      <td>0.944014</td>\n",
       "      <td>298.130617</td>\n",
       "    </tr>\n",
       "    <tr>\n",
       "      <th>min</th>\n",
       "      <td>1901.000000</td>\n",
       "      <td>1.000000</td>\n",
       "      <td>1.000000</td>\n",
       "    </tr>\n",
       "    <tr>\n",
       "      <th>25%</th>\n",
       "      <td>1949.750000</td>\n",
       "      <td>1.000000</td>\n",
       "      <td>250.750000</td>\n",
       "    </tr>\n",
       "    <tr>\n",
       "      <th>50%</th>\n",
       "      <td>1979.000000</td>\n",
       "      <td>2.000000</td>\n",
       "      <td>500.500000</td>\n",
       "    </tr>\n",
       "    <tr>\n",
       "      <th>75%</th>\n",
       "      <td>2003.000000</td>\n",
       "      <td>3.000000</td>\n",
       "      <td>764.250000</td>\n",
       "    </tr>\n",
       "    <tr>\n",
       "      <th>max</th>\n",
       "      <td>2023.000000</td>\n",
       "      <td>4.000000</td>\n",
       "      <td>1034.000000</td>\n",
       "    </tr>\n",
       "  </tbody>\n",
       "</table>\n",
       "</div>"
      ],
      "text/plain": [
       "              year   prizeShare   laureateID\n",
       "count  1000.000000  1000.000000  1000.000000\n",
       "mean   1973.721000     2.027000   509.099000\n",
       "std      34.523195     0.944014   298.130617\n",
       "min    1901.000000     1.000000     1.000000\n",
       "25%    1949.750000     1.000000   250.750000\n",
       "50%    1979.000000     2.000000   500.500000\n",
       "75%    2003.000000     3.000000   764.250000\n",
       "max    2023.000000     4.000000  1034.000000"
      ]
     },
     "execution_count": 3,
     "metadata": {},
     "output_type": "execute_result"
    }
   ],
   "source": [
    "nobel.describe()"
   ]
  },
  {
   "cell_type": "code",
   "execution_count": 4,
   "metadata": {},
   "outputs": [
    {
     "name": "stdout",
     "output_type": "stream",
     "text": [
      "<class 'pandas.core.frame.DataFrame'>\n",
      "RangeIndex: 1000 entries, 0 to 999\n",
      "Data columns (total 16 columns):\n",
      " #   Column               Non-Null Count  Dtype \n",
      "---  ------               --------------  ----- \n",
      " 0   year                 1000 non-null   int64 \n",
      " 1   category             1000 non-null   object\n",
      " 2   motivation           1000 non-null   object\n",
      " 3   prizeShare           1000 non-null   int64 \n",
      " 4   laureateID           1000 non-null   int64 \n",
      " 5   fullName             1000 non-null   object\n",
      " 6   gender               1000 non-null   object\n",
      " 7   born                 1000 non-null   object\n",
      " 8   bornCountry          970 non-null    object\n",
      " 9   bornCity             966 non-null    object\n",
      " 10  died                 970 non-null    object\n",
      " 11  diedCountry          652 non-null    object\n",
      " 12  diedCity             646 non-null    object\n",
      " 13  organizationName     736 non-null    object\n",
      " 14  organizationCountry  733 non-null    object\n",
      " 15  organizationCity     731 non-null    object\n",
      "dtypes: int64(3), object(13)\n",
      "memory usage: 125.1+ KB\n"
     ]
    }
   ],
   "source": [
    "nobel.info()"
   ]
  },
  {
   "cell_type": "markdown",
   "metadata": {},
   "source": [
    "#### Pregunta 1:\n",
    "\n",
    "Entre las variables presentes en el conjunto de datos, se encuentra el género (gender).\n",
    "Esta variable categórica toma valores female femenino, male masculino, y org para las\n",
    "organizaciones galardonadas:"
   ]
  },
  {
   "cell_type": "markdown",
   "metadata": {},
   "source": [
    "a. Genere un gráfico de barras para esta variable.\n",
    "\n",
    "Utilizaremos **Matplotlib** para representar visualmente la distribución de género en el conjunto de datos de los galardonados."
   ]
  },
  {
   "cell_type": "code",
   "execution_count": 16,
   "metadata": {},
   "outputs": [
    {
     "data": {
      "text/plain": [
       "gender\n",
       "female     65\n",
       "male      905\n",
       "org        30\n",
       "Name: gender, dtype: int64"
      ]
     },
     "execution_count": 16,
     "metadata": {},
     "output_type": "execute_result"
    }
   ],
   "source": [
    "gender_counts = nobel.groupby(\"gender\")[\"gender\"].agg('count')\n",
    "gender_counts"
   ]
  },
  {
   "cell_type": "code",
   "execution_count": 17,
   "metadata": {},
   "outputs": [
    {
     "data": {
      "image/png": "[encoded data removed]",
      "text/plain": [
       "<Figure size 640x480 with 1 Axes>"
      ]
     },
     "metadata": {},
     "output_type": "display_data"
    },
    {
     "data": {
      "text/plain": [
       "65"
      ]
     },
     "execution_count": 17,
     "metadata": {},
     "output_type": "execute_result"
    }
   ],
   "source": [
    "plt.bar(gender_counts.index, gender_counts.values)\n",
    "plt.show()\n",
    "gender_counts['female']"
   ]
  },
  {
   "cell_type": "markdown",
   "metadata": {},
   "source": [
    "b. Compute la estimación puntual de la proporción de todas las mujeres ganadoras de un nobel, así como su varianza. ¿Son estas buenas estimaciones para la proporción de mujeres a nivel mundial?¿Por qué?"
   ]
  },
  {
   "cell_type": "code",
   "execution_count": 18,
   "metadata": {},
   "outputs": [
    {
     "data": {
      "text/plain": [
       "0.065"
      ]
     },
     "execution_count": 18,
     "metadata": {},
     "output_type": "execute_result"
    }
   ],
   "source": [
    "mean_estimator = gender_counts['female']/ gender_counts.sum()\n",
    "mean_estimator"
   ]
  },
  {
   "cell_type": "code",
   "execution_count": 19,
   "metadata": {},
   "outputs": [
    {
     "data": {
      "text/plain": [
       "6.0775e-05"
      ]
     },
     "execution_count": 19,
     "metadata": {},
     "output_type": "execute_result"
    }
   ],
   "source": [
    "variance_estimator = mean_estimator*(1-mean_estimator)/gender_counts.sum()\n",
    "variance_estimator"
   ]
  },
  {
   "cell_type": "markdown",
   "metadata": {},
   "source": [
    "c. Construya un intervalo de confianza del 90 % para la proporción antes calculada.\n",
    "\n",
    "Recordemos que el intervalo de confianza para una proporción se calcula\n",
    "$$P(A) \\in [ \\hat{p} - \\sqrt{\\frac{\\hat{p}(1 - \\hat{p})}{n}}Z_{1 - \\frac{\\alpha}{2}} ; \\hat{p} + \\sqrt{\\frac{\\hat{p}(1 - \\hat{p})}{n}}Z_{1 - \\frac{\\alpha}{2}}]$$"
   ]
  },
  {
   "cell_type": "code",
   "execution_count": 25,
   "metadata": {},
   "outputs": [],
   "source": [
    "alpha = 0.1\n",
    "n = gender_counts.sum()\n",
    "Z = norm.ppf( 1-alpha/2 )\n",
    "sq = np.sqrt(variance_estimator)\n",
    "lower_bound = mean_estimator - sq*Z\n",
    "upper_bound = mean_estimator + sq*Z\n",
    "\n"
   ]
  },
  {
   "cell_type": "code",
   "execution_count": 26,
   "metadata": {},
   "outputs": [
    {
     "name": "stdout",
     "output_type": "stream",
     "text": [
      "0.052176997098080005\n",
      "0.07782300290192\n"
     ]
    }
   ],
   "source": [
    "print(lower_bound)\n",
    "print(upper_bound)"
   ]
  },
  {
   "cell_type": "markdown",
   "metadata": {},
   "source": [
    "#### Pregunta 2\n",
    "En el conjunto de datos se tienen las variables ```born``` que especifica la fecha de nacimiento\n",
    "de los individuos, y ```year``` el año en que fue galardonado.\n",
    "\n",
    "a. Use estas variables para generar una nueva, ```age```, la edad del individuo en el momento\n",
    "en que fue premiado.\n",
    "\n",
    "**Nota** : Se provee la función ```extract_year``` para apoyar la limpieza de datos haciendo uso de expresiones regulares."
   ]
  },
  {
   "cell_type": "code",
   "execution_count": 31,
   "metadata": {},
   "outputs": [],
   "source": [
    "def extract_year(s):\n",
    "    m = re.search(r'(\\d{4})', s)\n",
    "    return int(m.group(1)) if m else pd.NA"
   ]
  },
  {
   "cell_type": "code",
   "execution_count": 37,
   "metadata": {},
   "outputs": [
    {
     "name": "stdout",
     "output_type": "stream",
     "text": [
      "<class 'pandas.core.frame.DataFrame'>\n",
      "RangeIndex: 1000 entries, 0 to 999\n",
      "Data columns (total 18 columns):\n",
      " #   Column               Non-Null Count  Dtype \n",
      "---  ------               --------------  ----- \n",
      " 0   year                 1000 non-null   int32 \n",
      " 1   category             1000 non-null   object\n",
      " 2   motivation           1000 non-null   object\n",
      " 3   prizeShare           1000 non-null   int64 \n",
      " 4   laureateID           1000 non-null   int64 \n",
      " 5   fullName             1000 non-null   object\n",
      " 6   gender               1000 non-null   object\n",
      " 7   born                 1000 non-null   object\n",
      " 8   bornCountry          970 non-null    object\n",
      " 9   bornCity             966 non-null    object\n",
      " 10  died                 970 non-null    object\n",
      " 11  diedCountry          652 non-null    object\n",
      " 12  diedCity             646 non-null    object\n",
      " 13  organizationName     736 non-null    object\n",
      " 14  organizationCountry  733 non-null    object\n",
      " 15  organizationCity     731 non-null    object\n",
      " 16  born_year            1000 non-null   int64 \n",
      " 17  age                  1000 non-null   int64 \n",
      "dtypes: int32(1), int64(4), object(13)\n",
      "memory usage: 136.8+ KB\n",
      "     year    category                                         motivation  \\\n",
      "0    2023    medicine  for their discoveries concerning nucleoside ba...   \n",
      "1    2023   economics  for having advanced our understanding of women...   \n",
      "2    2023       peace  for her fight against the oppression of women ...   \n",
      "3    2023  literature  for his innovative plays and prose which give ...   \n",
      "4    2023   chemistry    for the discovery and synthesis of quantum dots   \n",
      "..    ...         ...                                                ...   \n",
      "995  1901       peace  for his lifelong work for international peace ...   \n",
      "996  1901       peace  for his humanitarian efforts to help wounded s...   \n",
      "997  1901    medicine  for his work on serum therapy especially its a...   \n",
      "998  1901   chemistry  in recognition of the extraordinary services h...   \n",
      "999  1901     physics  in recognition of the extraordinary services h...   \n",
      "\n",
      "     prizeShare  laureateID                fullName  gender        born  \\\n",
      "0             2        1024          Katalin Kariko  female  17-01-1955   \n",
      "1             1        1034          Claudia Goldin  female  1946-00-00   \n",
      "2             1        1033        Narges Mohammadi  female  21-04-1972   \n",
      "3             1        1032               Jon Fosse    male  29-09-1959   \n",
      "4             3        1031           Alexei Ekimov    male  1945-00-00   \n",
      "..          ...         ...                     ...     ...         ...   \n",
      "995           2         463          Frederic Passy    male  1822-05-20   \n",
      "996           2         462            Henry Dunant    male  1828-05-08   \n",
      "997           1         293        Emil von Behring    male  1854-03-15   \n",
      "998           1         160  Jacobus H. van 't Hoff    male  1852-08-30   \n",
      "999           1           1  Wilhelm Conrad Rontgen    male  1845-03-27   \n",
      "\n",
      "         bornCountry     bornCity        died  diedCountry diedCity  \\\n",
      "0            Hungary      Szolnok  0000-00-00          NaN      NaN   \n",
      "1                USA  New York NY  0000-00-00          NaN      NaN   \n",
      "2               Iran       Zanjan  0000-00-00          NaN      NaN   \n",
      "3             Norway    Haugesund  0000-00-00          NaN      NaN   \n",
      "4             Russia          NaN  0000-00-00          NaN      NaN   \n",
      "..               ...          ...         ...          ...      ...   \n",
      "995           France        Paris   6/12/1912       France    Paris   \n",
      "996      Switzerland       Geneva  10/30/1910  Switzerland   Heiden   \n",
      "997           Poland       Lawice   3/31/1917      Germany  Marburg   \n",
      "998  the Netherlands    Rotterdam    3/1/1911      Germany   Berlin   \n",
      "999          Germany    Remscheid   2/10/1923      Germany   Munich   \n",
      "\n",
      "                 organizationName organizationCountry organizationCity  \\\n",
      "0               Szeged University             Hungary           Szeged   \n",
      "1              Harvard University                 USA     Cambridge MA   \n",
      "2                             NaN                 NaN              NaN   \n",
      "3                             NaN                 NaN              NaN   \n",
      "4    Nanocrystals Technology Inc.                 USA      New York NY   \n",
      "..                            ...                 ...              ...   \n",
      "995                           NaN                 NaN              NaN   \n",
      "996                           NaN                 NaN              NaN   \n",
      "997            Marburg University             Germany          Marburg   \n",
      "998             Berlin University             Germany           Berlin   \n",
      "999             Munich University             Germany           Munich   \n",
      "\n",
      "     born_year  age  \n",
      "0         1955   68  \n",
      "1         1946   77  \n",
      "2         1972   51  \n",
      "3         1959   64  \n",
      "4         1945   78  \n",
      "..         ...  ...  \n",
      "995       1822   79  \n",
      "996       1828   73  \n",
      "997       1854   47  \n",
      "998       1852   49  \n",
      "999       1845   56  \n",
      "\n",
      "[1000 rows x 18 columns]\n"
     ]
    }
   ],
   "source": [
    "\n",
    "nobel['born_year'] = nobel['born'].apply(extract_year)\n",
    "nobel['year'] = nobel['year'].astype(int)\n",
    "nobel['age'] = nobel['year'] - nobel['born_year']\n",
    "# nobel['age'] = nobel['year'] - extract_year(nobel['born'])\n",
    "nobel.info()\n",
    "print(nobel)\n"
   ]
  },
  {
   "cell_type": "markdown",
   "metadata": {},
   "source": [
    "b. Genere un gráfico de cajas y bigotes para la nueva variable. ¿Qué significan los\n",
    "puntos al exterior de los bigotes?"
   ]
  },
  {
   "cell_type": "code",
   "execution_count": 39,
   "metadata": {},
   "outputs": [
    {
     "data": {
      "image/png": "[encoded data removed]",
      "text/plain": [
       "<Figure size 1000x600 with 1 Axes>"
      ]
     },
     "metadata": {},
     "output_type": "display_data"
    }
   ],
   "source": [
    "plt.figure(figsize=(10, 6))\n",
    "plt.boxplot(x=nobel['age'])\n",
    "plt.title('Gráfico de Cajas y Bigotes para la Edad en el Momento del Premio')\n",
    "plt.xlabel('Edad')\n",
    "plt.show()"
   ]
  },
  {
   "cell_type": "markdown",
   "metadata": {},
   "source": [
    "c. Escriba el código para eliminar los datos los puntos observados en el inciso anterior.\n",
    "\n",
    "**Nota**: Recordemos que las lineas más exteriores de un boxplot se llaman barreras (límites). Para calcularlas es necesario:\n",
    " 1. Calcular los Cuartiles 1 (Q1) y 3 (Q3).\n",
    " 2. Calcular el rango intercuartílico ($IQR$) como la diferencia de $Q_3 - Q_1$.\n",
    " 3. Calcular Limite Superior $L_S =  Q_3 + IQR * 1.5$.\n",
    " 4. Calcular Limite Superior $L_I =  Q_1 - IQR * 1.5$.\n",
    "\n",
    "Grafiquemos de nuevo con cajas y bigotes el conjunto de datos resultante.\n"
   ]
  },
  {
   "cell_type": "code",
   "execution_count": null,
   "metadata": {},
   "outputs": [],
   "source": []
  },
  {
   "cell_type": "markdown",
   "metadata": {},
   "source": [
    "d. Genere un histograma para la variable ```age``` (filtrada). ¿Qué distribución parece seguir la variable?"
   ]
  },
  {
   "cell_type": "code",
   "execution_count": null,
   "metadata": {},
   "outputs": [],
   "source": []
  },
  {
   "cell_type": "markdown",
   "metadata": {},
   "source": [
    "#### Pregunta 3\n",
    "Asumiendo que la variable creada age es normalmente distribuida:\n",
    "\n",
    "a. Estime los parámetros de la distribución, maximizando la verosimilitud."
   ]
  },
  {
   "cell_type": "code",
   "execution_count": null,
   "metadata": {},
   "outputs": [],
   "source": []
  },
  {
   "cell_type": "code",
   "execution_count": null,
   "metadata": {},
   "outputs": [],
   "source": []
  }
 ],
 "metadata": {
  "kernelspec": {
   "display_name": "Python 3",
   "language": "python",
   "name": "python3"
  },
  "language_info": {
   "codemirror_mode": {
    "name": "ipython",
    "version": 3
   },
   "file_extension": ".py",
   "mimetype": "text/x-python",
   "name": "python",
   "nbconvert_exporter": "python",
   "pygments_lexer": "ipython3",
   "version": "3.12.0"
  }
 },
 "nbformat": 4,
 "nbformat_minor": 2
}
