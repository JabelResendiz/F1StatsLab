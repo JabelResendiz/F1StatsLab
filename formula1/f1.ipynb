{
 "cells": [
  {
   "cell_type": "markdown",
   "metadata": {},
   "source": [
    "<div style=\"text-align: center;\">\n",
    "    <h1>Seminario Final de Estadística</h1>\n",
    "</div>\n"
   ]
  },
  {
   "cell_type": "markdown",
   "metadata": {},
   "source": [
    "## Integrantes\n",
    "\n",
    "- Jabel Resendiz Aguirre              - C312\n",
    "- Arianne Camila Palancar Ochando     - C311\n",
    "- Noel Pérez Calvo                    - C311\n",
    "\n",
    "## Introducción\n",
    "\n",
    "La Fórmula 1 (F1) es la categoría más alta del automovilismo deportivo, donde los mejores pilotos y equipos compiten en carreras de alta velocidad alrededor del mundo. Cada temporada, los equipos participan en una serie de carreras conocidas como Grandes Premios, que se llevan a cabo en circuitos de carreras en diferentes países.\n",
    "\n",
    "El objetivo de este proyecto es analizar y modelar diversos aspectos de las carreras de Fórmula 1 utilizando un conjunto de datos simulado. Este dataset incluye información detallada sobre los conductores, equipos, circuitos, tiempos de reacción, tiempos de pit stop, posiciones finales, velocidades máximas, y número de adelantamientos, entre otros.\n",
    "\n",
    "### Objetivos : \n",
    "1. `Análisis Descriptivo`: Realizar un análisis descriptivo de las variables para entender la distribución y características de los datos.\n",
    "\n",
    "2. `Pruebas de Hipótesis`: Realizar pruebas de hipótesis para evaluar suposiciones sobre los datos, como la distribución del tiempo de reacción y el número de adelantamientos.\n",
    "\n",
    "3. `Visualización de Datos`: Crear visualizaciones que ayuden a comunicar los hallazgos de manera efectiva, como gráficos de barras, histogramas y diagramas de dispersión.\n",
    "\n",
    "El dataset contiene las siguientes variables:\n",
    "\n",
    "- `Fecha de la carrera`: La fecha en que se llevó a cabo la carrera.\n",
    "- `Conductor`: El nombre del conductor que participó en la carrera.\n",
    "- `Edad del conductor`: La edad del conductor en el momento de la carrera.\n",
    "- `Equipo`: El equipo al que pertenece el conductor.\n",
    "- `Circuito`: El nombre del circuito donde se realizó la carrera.\n",
    "- `Tiempo de pit stop`: El tiempo que el conductor pasó en los pits, medido en segundos.\n",
    "- `Tiempo de reacción`: El tiempo de reacción del conductor al inicio de la carrera, medido en segundos.\n",
    "- `Posición final`: La posición en la que el conductor terminó la carrera.\n",
    "- `DNF (Did Not Finish)`: Indicador de si el conductor terminó la carrera (0) o no (1).\n",
    "- `Puntos`: Los puntos obtenidos por el conductor en la carrera, basados en su posición final.\n",
    "- `Velocidad máxima`: La velocidad máxima alcanzada por el conductor durante la carrera, medida en km/h.\n",
    "- `Número de adelantamientos`: El número de adelantamientos realizados por el conductor durante la carrera.\n",
    "\n",
    "Se espera que este análisis proporcione una comprensión más profunda de los factores que influyen en el rendimiento de los conductores en las carreras de Fórmula 1.\n",
    "\n"
   ]
  },
  {
   "cell_type": "markdown",
   "metadata": {},
   "source": [
    "## Importando módulos"
   ]
  },
  {
   "cell_type": "code",
   "execution_count": 1,
   "metadata": {},
   "outputs": [],
   "source": [
    "import numpy as np\n",
    "import pandas as pd\n",
    "import scipy.stats as st\n",
    "from scipy.stats import norm \n",
    "import matplotlib.pyplot as plt\n",
    "import seaborn as sns"
   ]
  },
  {
   "cell_type": "markdown",
   "metadata": {},
   "source": [
    "## Cargando datos"
   ]
  },
  {
   "cell_type": "code",
   "execution_count": 5,
   "metadata": {},
   "outputs": [],
   "source": [
    "f1 = pd.read_csv('formula1_race_data.csv')"
   ]
  },
  {
   "cell_type": "markdown",
   "metadata": {},
   "source": [
    "## Análisis exploratorio de los datos"
   ]
  },
  {
   "cell_type": "markdown",
   "metadata": {},
   "source": [
    "### Descripción básica de los datos"
   ]
  },
  {
   "cell_type": "code",
   "execution_count": 6,
   "metadata": {},
   "outputs": [
    {
     "data": {
      "text/html": [
       "<div>\n",
       "<style scoped>\n",
       "    .dataframe tbody tr th:only-of-type {\n",
       "        vertical-align: middle;\n",
       "    }\n",
       "\n",
       "    .dataframe tbody tr th {\n",
       "        vertical-align: top;\n",
       "    }\n",
       "\n",
       "    .dataframe thead th {\n",
       "        text-align: right;\n",
       "    }\n",
       "</style>\n",
       "<table border=\"1\" class=\"dataframe\">\n",
       "  <thead>\n",
       "    <tr style=\"text-align: right;\">\n",
       "      <th></th>\n",
       "      <th>Date</th>\n",
       "      <th>Driver</th>\n",
       "      <th>Age</th>\n",
       "      <th>Team</th>\n",
       "      <th>Circuit</th>\n",
       "      <th>PitStopTime</th>\n",
       "      <th>ReactionTime</th>\n",
       "      <th>FinalPosition</th>\n",
       "      <th>DNF</th>\n",
       "      <th>Points</th>\n",
       "      <th>MaxSpeed</th>\n",
       "      <th>Overtakes</th>\n",
       "    </tr>\n",
       "  </thead>\n",
       "  <tbody>\n",
       "    <tr>\n",
       "      <th>0</th>\n",
       "      <td>2016-09-10</td>\n",
       "      <td>Perez</td>\n",
       "      <td>35</td>\n",
       "      <td>Williams</td>\n",
       "      <td>Melbourne</td>\n",
       "      <td>2.651</td>\n",
       "      <td>0.054</td>\n",
       "      <td>9</td>\n",
       "      <td>0</td>\n",
       "      <td>17</td>\n",
       "      <td>330.6</td>\n",
       "      <td>10</td>\n",
       "    </tr>\n",
       "    <tr>\n",
       "      <th>1</th>\n",
       "      <td>2023-02-16</td>\n",
       "      <td>Alonso</td>\n",
       "      <td>26</td>\n",
       "      <td>Alpine</td>\n",
       "      <td>Silverstone</td>\n",
       "      <td>2.550</td>\n",
       "      <td>0.470</td>\n",
       "      <td>6</td>\n",
       "      <td>0</td>\n",
       "      <td>20</td>\n",
       "      <td>314.4</td>\n",
       "      <td>10</td>\n",
       "    </tr>\n",
       "    <tr>\n",
       "      <th>2</th>\n",
       "      <td>2010-01-12</td>\n",
       "      <td>Ricciardo</td>\n",
       "      <td>31</td>\n",
       "      <td>Williams</td>\n",
       "      <td>Melbourne</td>\n",
       "      <td>3.187</td>\n",
       "      <td>0.186</td>\n",
       "      <td>12</td>\n",
       "      <td>0</td>\n",
       "      <td>0</td>\n",
       "      <td>330.4</td>\n",
       "      <td>5</td>\n",
       "    </tr>\n",
       "    <tr>\n",
       "      <th>3</th>\n",
       "      <td>2022-12-05</td>\n",
       "      <td>Ricciardo</td>\n",
       "      <td>26</td>\n",
       "      <td>Williams</td>\n",
       "      <td>Spa</td>\n",
       "      <td>3.358</td>\n",
       "      <td>0.531</td>\n",
       "      <td>12</td>\n",
       "      <td>0</td>\n",
       "      <td>0</td>\n",
       "      <td>303.2</td>\n",
       "      <td>2</td>\n",
       "    </tr>\n",
       "    <tr>\n",
       "      <th>4</th>\n",
       "      <td>2018-07-18</td>\n",
       "      <td>Bottas</td>\n",
       "      <td>26</td>\n",
       "      <td>Ferrari</td>\n",
       "      <td>Montreal</td>\n",
       "      <td>3.180</td>\n",
       "      <td>0.005</td>\n",
       "      <td>6</td>\n",
       "      <td>0</td>\n",
       "      <td>20</td>\n",
       "      <td>330.9</td>\n",
       "      <td>8</td>\n",
       "    </tr>\n",
       "  </tbody>\n",
       "</table>\n",
       "</div>"
      ],
      "text/plain": [
       "         Date     Driver  Age      Team      Circuit  PitStopTime  \\\n",
       "0  2016-09-10      Perez   35  Williams    Melbourne        2.651   \n",
       "1  2023-02-16     Alonso   26    Alpine  Silverstone        2.550   \n",
       "2  2010-01-12  Ricciardo   31  Williams    Melbourne        3.187   \n",
       "3  2022-12-05  Ricciardo   26  Williams          Spa        3.358   \n",
       "4  2018-07-18     Bottas   26   Ferrari     Montreal        3.180   \n",
       "\n",
       "   ReactionTime  FinalPosition  DNF  Points  MaxSpeed  Overtakes  \n",
       "0         0.054              9    0      17     330.6         10  \n",
       "1         0.470              6    0      20     314.4         10  \n",
       "2         0.186             12    0       0     330.4          5  \n",
       "3         0.531             12    0       0     303.2          2  \n",
       "4         0.005              6    0      20     330.9          8  "
      ]
     },
     "execution_count": 6,
     "metadata": {},
     "output_type": "execute_result"
    }
   ],
   "source": [
    "f1.head() # verficar que se han cargado correctamente los datos"
   ]
  },
  {
   "cell_type": "code",
   "execution_count": 7,
   "metadata": {},
   "outputs": [
    {
     "name": "stdout",
     "output_type": "stream",
     "text": [
      "<class 'pandas.core.frame.DataFrame'>\n",
      "RangeIndex: 500 entries, 0 to 499\n",
      "Data columns (total 12 columns):\n",
      " #   Column         Non-Null Count  Dtype  \n",
      "---  ------         --------------  -----  \n",
      " 0   Date           500 non-null    object \n",
      " 1   Driver         500 non-null    object \n",
      " 2   Age            500 non-null    int64  \n",
      " 3   Team           500 non-null    object \n",
      " 4   Circuit        500 non-null    object \n",
      " 5   PitStopTime    500 non-null    float64\n",
      " 6   ReactionTime   500 non-null    float64\n",
      " 7   FinalPosition  500 non-null    int64  \n",
      " 8   DNF            500 non-null    int64  \n",
      " 9   Points         500 non-null    int64  \n",
      " 10  MaxSpeed       500 non-null    float64\n",
      " 11  Overtakes      500 non-null    int64  \n",
      "dtypes: float64(3), int64(5), object(4)\n",
      "memory usage: 47.0+ KB\n"
     ]
    }
   ],
   "source": [
    "f1.info() #Se proporciona información útil sobre el DataFrame"
   ]
  },
  {
   "cell_type": "code",
   "execution_count": 8,
   "metadata": {},
   "outputs": [
    {
     "data": {
      "text/html": [
       "<div>\n",
       "<style scoped>\n",
       "    .dataframe tbody tr th:only-of-type {\n",
       "        vertical-align: middle;\n",
       "    }\n",
       "\n",
       "    .dataframe tbody tr th {\n",
       "        vertical-align: top;\n",
       "    }\n",
       "\n",
       "    .dataframe thead th {\n",
       "        text-align: right;\n",
       "    }\n",
       "</style>\n",
       "<table border=\"1\" class=\"dataframe\">\n",
       "  <thead>\n",
       "    <tr style=\"text-align: right;\">\n",
       "      <th></th>\n",
       "      <th>Age</th>\n",
       "      <th>PitStopTime</th>\n",
       "      <th>ReactionTime</th>\n",
       "      <th>FinalPosition</th>\n",
       "      <th>DNF</th>\n",
       "      <th>Points</th>\n",
       "      <th>MaxSpeed</th>\n",
       "      <th>Overtakes</th>\n",
       "    </tr>\n",
       "  </thead>\n",
       "  <tbody>\n",
       "    <tr>\n",
       "      <th>count</th>\n",
       "      <td>500.000000</td>\n",
       "      <td>500.000000</td>\n",
       "      <td>500.000000</td>\n",
       "      <td>500.000000</td>\n",
       "      <td>500.00000</td>\n",
       "      <td>500.00000</td>\n",
       "      <td>500.000000</td>\n",
       "      <td>500.000000</td>\n",
       "    </tr>\n",
       "    <tr>\n",
       "      <th>mean</th>\n",
       "      <td>27.640000</td>\n",
       "      <td>2.995430</td>\n",
       "      <td>0.198526</td>\n",
       "      <td>10.452000</td>\n",
       "      <td>0.16200</td>\n",
       "      <td>8.86200</td>\n",
       "      <td>329.979800</td>\n",
       "      <td>5.290000</td>\n",
       "    </tr>\n",
       "    <tr>\n",
       "      <th>std</th>\n",
       "      <td>5.081934</td>\n",
       "      <td>0.489169</td>\n",
       "      <td>0.192289</td>\n",
       "      <td>5.737031</td>\n",
       "      <td>0.36882</td>\n",
       "      <td>10.37585</td>\n",
       "      <td>9.875064</td>\n",
       "      <td>2.394445</td>\n",
       "    </tr>\n",
       "    <tr>\n",
       "      <th>min</th>\n",
       "      <td>12.000000</td>\n",
       "      <td>1.529000</td>\n",
       "      <td>0.000000</td>\n",
       "      <td>1.000000</td>\n",
       "      <td>0.00000</td>\n",
       "      <td>0.00000</td>\n",
       "      <td>299.100000</td>\n",
       "      <td>0.000000</td>\n",
       "    </tr>\n",
       "    <tr>\n",
       "      <th>25%</th>\n",
       "      <td>24.000000</td>\n",
       "      <td>2.646750</td>\n",
       "      <td>0.065000</td>\n",
       "      <td>6.000000</td>\n",
       "      <td>0.00000</td>\n",
       "      <td>0.00000</td>\n",
       "      <td>323.300000</td>\n",
       "      <td>4.000000</td>\n",
       "    </tr>\n",
       "    <tr>\n",
       "      <th>50%</th>\n",
       "      <td>28.000000</td>\n",
       "      <td>3.001000</td>\n",
       "      <td>0.139000</td>\n",
       "      <td>10.000000</td>\n",
       "      <td>0.00000</td>\n",
       "      <td>0.00000</td>\n",
       "      <td>329.400000</td>\n",
       "      <td>5.000000</td>\n",
       "    </tr>\n",
       "    <tr>\n",
       "      <th>75%</th>\n",
       "      <td>31.000000</td>\n",
       "      <td>3.330000</td>\n",
       "      <td>0.275500</td>\n",
       "      <td>16.000000</td>\n",
       "      <td>0.00000</td>\n",
       "      <td>20.00000</td>\n",
       "      <td>336.825000</td>\n",
       "      <td>7.000000</td>\n",
       "    </tr>\n",
       "    <tr>\n",
       "      <th>max</th>\n",
       "      <td>43.000000</td>\n",
       "      <td>4.385000</td>\n",
       "      <td>1.917000</td>\n",
       "      <td>20.000000</td>\n",
       "      <td>1.00000</td>\n",
       "      <td>25.00000</td>\n",
       "      <td>355.300000</td>\n",
       "      <td>14.000000</td>\n",
       "    </tr>\n",
       "  </tbody>\n",
       "</table>\n",
       "</div>"
      ],
      "text/plain": [
       "              Age  PitStopTime  ReactionTime  FinalPosition        DNF  \\\n",
       "count  500.000000   500.000000    500.000000     500.000000  500.00000   \n",
       "mean    27.640000     2.995430      0.198526      10.452000    0.16200   \n",
       "std      5.081934     0.489169      0.192289       5.737031    0.36882   \n",
       "min     12.000000     1.529000      0.000000       1.000000    0.00000   \n",
       "25%     24.000000     2.646750      0.065000       6.000000    0.00000   \n",
       "50%     28.000000     3.001000      0.139000      10.000000    0.00000   \n",
       "75%     31.000000     3.330000      0.275500      16.000000    0.00000   \n",
       "max     43.000000     4.385000      1.917000      20.000000    1.00000   \n",
       "\n",
       "          Points    MaxSpeed   Overtakes  \n",
       "count  500.00000  500.000000  500.000000  \n",
       "mean     8.86200  329.979800    5.290000  \n",
       "std     10.37585    9.875064    2.394445  \n",
       "min      0.00000  299.100000    0.000000  \n",
       "25%      0.00000  323.300000    4.000000  \n",
       "50%      0.00000  329.400000    5.000000  \n",
       "75%     20.00000  336.825000    7.000000  \n",
       "max     25.00000  355.300000   14.000000  "
      ]
     },
     "execution_count": 8,
     "metadata": {},
     "output_type": "execute_result"
    }
   ],
   "source": [
    "f1.describe() #generar estadísticas descriptiva del DataFrame"
   ]
  },
  {
   "cell_type": "markdown",
   "metadata": {},
   "source": [
    "### DNF (Did Not Finish)\n",
    "\n",
    "“Did Not Finish” (DNF) es un término utilizado para indicar que un competidor no completó la carrera. Esto puede ocurrir por diversas razones, como fallos mecánicos, accidentes, problemas de salud, o cualquier otra circunstancia que impida al competidor llegar a la meta1. Hagamos un análisis de la variable."
   ]
  },
  {
   "cell_type": "code",
   "execution_count": 22,
   "metadata": {},
   "outputs": [
    {
     "data": {
      "image/png": "[encoded data removed]",
      "text/plain": [
       "<Figure size 640x480 with 1 Axes>"
      ]
     },
     "metadata": {},
     "output_type": "display_data"
    }
   ],
   "source": [
    "#Contarla cantidad de veces que se terminó una carrera\n",
    "gender_counts = heart[\"DNF\"].value_counts()\n",
    "gender_counts\n",
    "\n",
    "# Crear un gráfico de barras\n",
    "plt.bar(gender_counts.index, gender_counts.values, color=['black', 'red'])\n",
    "plt.xticks([0, 1], ['Yep', 'Did not'])\n",
    "plt.title('Distribución del número de DNF ')\n",
    "\n",
    "for index,value in enumerate(gender_counts.values):\n",
    "        plt.text(index,value,str(value),ha='center', va='bottom')\n",
    "plt.show()\n"
   ]
  },
  {
   "cell_type": "markdown",
   "metadata": {},
   "source": [
    "Consideremos una variable de Bernoulli que nos manifiesta si un corredor finaliza la carrera, con lo cual tendremos una proporción muestral."
   ]
  },
  {
   "cell_type": "code",
   "execution_count": 23,
   "metadata": {},
   "outputs": [
    {
     "data": {
      "text/plain": [
       "0.838"
      ]
     },
     "execution_count": 23,
     "metadata": {},
     "output_type": "execute_result"
    }
   ],
   "source": [
    "p_estimator = gender_counts[0]/ gender_counts.sum()\n",
    "p_estimator"
   ]
  },
  {
   "cell_type": "code",
   "execution_count": 24,
   "metadata": {},
   "outputs": [
    {
     "data": {
      "text/plain": [
       "0.000271512"
      ]
     },
     "execution_count": 24,
     "metadata": {},
     "output_type": "execute_result"
    }
   ],
   "source": [
    "variance_estimator = mean_estimator*(1-mean_estimator)/gender_counts.sum()\n",
    "variance_estimator"
   ]
  },
  {
   "cell_type": "markdown",
   "metadata": {},
   "source": [
    "Construyamos un intervalo de confianza del 95 % para la proporción antes calculada.\n",
    "\n",
    "Recordemos que el intervalo de confianza para una proporción se calcula\n",
    "$$P(A) \\in [ \\hat{p} - \\sqrt{\\frac{\\hat{p}(1 - \\hat{p})}{n}}Z_{1 - \\frac{\\alpha}{2}} ; \\hat{p} + \\sqrt{\\frac{\\hat{p}(1 - \\hat{p})}{n}}Z_{1 - \\frac{\\alpha}{2}}]$$"
   ]
  },
  {
   "cell_type": "code",
   "execution_count": 25,
   "metadata": {},
   "outputs": [
    {
     "name": "stdout",
     "output_type": "stream",
     "text": [
      "Intervalo : [  0.8057044559215314 , 0.8702955440784685 ]\n"
     ]
    }
   ],
   "source": [
    "alpha = 0.05\n",
    "n = gender_counts.sum()\n",
    "Z = norm.ppf( 1-alpha/2 )\n",
    "sq = np.sqrt(variance_estimator)\n",
    "lower_bound = mean_estimator - sq*Z\n",
    "upper_bound = mean_estimator + sq*Z\n",
    "\n",
    "print(\"Intervalo : [ \",lower_bound,\",\" , upper_bound, \"]\")\n"
   ]
  },
  {
   "cell_type": "markdown",
   "metadata": {},
   "source": [
    "En general, la tasa de finalización de carreras ha mejorado significativamente a lo largo de los años debido a los avances en la tecnología y la fiabilidad de los monoplazas.\n",
    "\n",
    "[Por ejemplo, en la temporada 2021, la tasa de finalización de carreras fue bastante alta, con un promedio de alrededor del 85-90% de los coches que comenzaron una carrera logrando terminarla](https://www.tudn.com/formula-1). Veamos si nuestro valor de proporción se puede considerar menor al dado."
   ]
  },
  {
   "cell_type": "code",
   "execution_count": 27,
   "metadata": {},
   "outputs": [
    {
     "name": "stdout",
     "output_type": "stream",
     "text": [
      "Valor Z_hat: -0.7514691493021801\n",
      "No rechazamos la hipótesis nula. No hay evidencia suficiente para afirmar que la proporción muestral es menor que la proporción poblacional.\n"
     ]
    }
   ],
   "source": [
    "#H0: p >= 0.85\n",
    "#H1: p < 0.85\n",
    "\n",
    "alpha = 0.05\n",
    "p0= 0.85\n",
    "n = gender_counts.sum()\n",
    "Z = norm.ppf( 1-alpha )\n",
    "Z_hat = (p_estimator - p0)*np.sqrt(n/(p0*(1-p0)))\n",
    "\n",
    "print(f\"Valor Z_hat: {Z_hat}\")\n",
    "\n",
    "if Z_hat < -Z:\n",
    "    print(\"Rechazamos la hipótesis nula. La proporción muestral es significativamente menor que la proporción poblacional.\")\n",
    "\n",
    "else:\n",
    "     print(\"No rechazamos la hipótesis nula. No hay evidencia suficiente para afirmar que la proporción muestral es menor que la proporción poblacional.\")"
   ]
  },
  {
   "cell_type": "markdown",
   "metadata": {},
   "source": [
    "No hay suficiente evidencia para concluir que la proporción de finalización de carreras es significativamente menor que 0.85."
   ]
  },
  {
   "cell_type": "markdown",
   "metadata": {},
   "source": [
    "### \n",
    "\n",
    "La presión arterial es una medida crucial de la salud cardiovascular, ya que indica la fuerza que ejerce la sangre contra las paredes de los vasso sanguíneos. Analicemos ahora el comportamiento de la presión arterial en el estudio."
   ]
  },
  {
   "cell_type": "markdown",
   "metadata": {},
   "source": [
    "Grafiquemos los valores para representar visualmente la distribución de sexo en el conjunto de datos."
   ]
  },
  {
   "cell_type": "code",
   "execution_count": 51,
   "metadata": {},
   "outputs": [
    {
     "data": {
      "text/plain": [
       "Text(0.5, 1.0, 'Distribución de Presión Arterial')"
      ]
     },
     "execution_count": 51,
     "metadata": {},
     "output_type": "execute_result"
    },
    {
     "data": {
      "image/png": "[encoded data removed]",
      "text/plain": [
       "<Figure size 2000x2000 with 1 Axes>"
      ]
     },
     "metadata": {},
     "output_type": "display_data"
    }
   ],
   "source": [
    "sns.set_style(\"whitegrid\")\n",
    "plt.figure(figsize=(20, 20))\n",
    "\n",
    "plt.subplot(3, 3, 3)\n",
    "sns.histplot(heart['Presion_Arterial'], kde=True)\n",
    "plt.title('Distribución de Presión Arterial')\n"
   ]
  },
  {
   "cell_type": "markdown",
   "metadata": {},
   "source": [
    "Como se puede visualizar en el histograma, los datos parecen seguir una distribución normal. Para comprobar esta observación, realizaremos un análisis de estadística inferencial. En particular, calcularemos los estimadores de la media y la varianza para validar la normalidad de los datos.\n",
    "\n",
    "$\\bar{X} = \\frac{\\sum{Xi}}{n}$ \n",
    "\n",
    "$s^2 = \\frac{\\sum{(Xi-\\bar{X})^2}}{n-1}$"
   ]
  },
  {
   "cell_type": "code",
   "execution_count": 56,
   "metadata": {},
   "outputs": [
    {
     "data": {
      "text/plain": [
       "389.3912888888889"
      ]
     },
     "execution_count": 56,
     "metadata": {},
     "output_type": "execute_result"
    }
   ],
   "source": [
    "mean_blood_preasure = np.mean(heart[\"Presion_Arterial\"])\n",
    "\n",
    "varianza_blood_preasure = np.var(heart[\"Presion_Arterial\"])\n",
    "\n",
    "varianza_blood_preasure"
   ]
  }
 ],
 "metadata": {
  "kernelspec": {
   "display_name": "Python 3",
   "language": "python",
   "name": "python3"
  },
  "language_info": {
   "codemirror_mode": {
    "name": "ipython",
    "version": 3
   },
   "file_extension": ".py",
   "mimetype": "text/x-python",
   "name": "python",
   "nbconvert_exporter": "python",
   "pygments_lexer": "ipython3",
   "version": "3.12.0"
  }
 },
 "nbformat": 4,
 "nbformat_minor": 2
}
